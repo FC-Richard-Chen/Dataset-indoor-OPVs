{
 "cells": [
  {
   "cell_type": "code",
   "execution_count": 1,
   "metadata": {
    "tags": []
   },
   "outputs": [],
   "source": [
    "%matplotlib inline\n",
    "import numpy as np\n",
    "import pandas as pd\n",
    "import openpyxl\n",
    "import matplotlib.pyplot as plt\n",
    "import seaborn as sns\n",
    "plt.style.use('ggplot')"
   ]
  },
  {
   "cell_type": "code",
   "execution_count": 2,
   "metadata": {
    "scrolled": true,
    "tags": []
   },
   "outputs": [
    {
     "data": {
      "text/plain": [
       "(128, 18)"
      ]
     },
     "execution_count": 2,
     "metadata": {},
     "output_type": "execute_result"
    }
   ],
   "source": [
    "# load raw data\n",
    "data=pd.read_excel('data-indoor.xlsx', engine='openpyxl')\n",
    "data.shape"
   ]
  },
  {
   "cell_type": "code",
   "execution_count": 3,
   "metadata": {
    "scrolled": true,
    "tags": []
   },
   "outputs": [
    {
     "data": {
      "text/html": [
       "<div>\n",
       "<style scoped>\n",
       "    .dataframe tbody tr th:only-of-type {\n",
       "        vertical-align: middle;\n",
       "    }\n",
       "\n",
       "    .dataframe tbody tr th {\n",
       "        vertical-align: top;\n",
       "    }\n",
       "\n",
       "    .dataframe thead th {\n",
       "        text-align: right;\n",
       "    }\n",
       "</style>\n",
       "<table border=\"1\" class=\"dataframe\">\n",
       "  <thead>\n",
       "    <tr style=\"text-align: right;\">\n",
       "      <th></th>\n",
       "      <th>Donor</th>\n",
       "      <th>Acceptor</th>\n",
       "      <th>Light source</th>\n",
       "      <th>Condition</th>\n",
       "      <th>Voc (V)</th>\n",
       "      <th>Jsc (mA cm^2)</th>\n",
       "      <th>FF(%)</th>\n",
       "      <th>PCE(%)</th>\n",
       "      <th>SMILES(donor)</th>\n",
       "      <th>SMILES(acceptor)</th>\n",
       "      <th>Donor_HOMO(ev)</th>\n",
       "      <th>Donor_LUMO(ev)</th>\n",
       "      <th>Donor_bandgap(ev)</th>\n",
       "      <th>Acceptor_HOMO(ev)</th>\n",
       "      <th>Acceptor_LUMO(ev)</th>\n",
       "      <th>Acceptor_bandgap(ev)</th>\n",
       "      <th>EffectiveEg(eV)</th>\n",
       "      <th>Reference</th>\n",
       "    </tr>\n",
       "  </thead>\n",
       "  <tbody>\n",
       "    <tr>\n",
       "      <th>0</th>\n",
       "      <td>P3HT</td>\n",
       "      <td>PC61BM</td>\n",
       "      <td>FL</td>\n",
       "      <td>300</td>\n",
       "      <td>0.410</td>\n",
       "      <td>0.0206</td>\n",
       "      <td>56.6</td>\n",
       "      <td>5.80</td>\n",
       "      <td>CC1=CC(CCCCCC)=C(C)S1</td>\n",
       "      <td>COC(=O)CCCC1(C23C14C5=C6C7=C8C5=C9C1=C5C%10=C%...</td>\n",
       "      <td>5.20</td>\n",
       "      <td>3.20</td>\n",
       "      <td>2.00</td>\n",
       "      <td>6.1</td>\n",
       "      <td>3.7</td>\n",
       "      <td>2.4</td>\n",
       "      <td>1.50</td>\n",
       "      <td>https://doi.org/10.1063/1.4954268</td>\n",
       "    </tr>\n",
       "    <tr>\n",
       "      <th>1</th>\n",
       "      <td>PCDTBT</td>\n",
       "      <td>PC71BM</td>\n",
       "      <td>FL</td>\n",
       "      <td>300</td>\n",
       "      <td>0.720</td>\n",
       "      <td>0.0277</td>\n",
       "      <td>69.3</td>\n",
       "      <td>16.60</td>\n",
       "      <td>CC1=CC(N(C(CCCCCCCC)CCCCCCCC)C2=C3C=CC(C4=CC=C...</td>\n",
       "      <td>COC(=O)CCCC1(C23C14C5=C6C7=C8C9=C1C%10=C%11C9=...</td>\n",
       "      <td>5.40</td>\n",
       "      <td>3.60</td>\n",
       "      <td>1.80</td>\n",
       "      <td>6.1</td>\n",
       "      <td>4.2</td>\n",
       "      <td>1.9</td>\n",
       "      <td>1.20</td>\n",
       "      <td>https://doi.org/10.1063/1.4954268</td>\n",
       "    </tr>\n",
       "    <tr>\n",
       "      <th>2</th>\n",
       "      <td>PTB7</td>\n",
       "      <td>PC71BM</td>\n",
       "      <td>FL</td>\n",
       "      <td>300</td>\n",
       "      <td>0.610</td>\n",
       "      <td>0.0286</td>\n",
       "      <td>69.5</td>\n",
       "      <td>14.60</td>\n",
       "      <td>CC1=C(C(F)=C(C(OCC(CC)CCCC)=O)S2)C2=C(C3=CC4=C...</td>\n",
       "      <td>COC(=O)CCCC1(C23C14C5=C6C7=C8C9=C1C%10=C%11C9=...</td>\n",
       "      <td>5.15</td>\n",
       "      <td>3.31</td>\n",
       "      <td>1.80</td>\n",
       "      <td>6.1</td>\n",
       "      <td>4.2</td>\n",
       "      <td>1.9</td>\n",
       "      <td>0.95</td>\n",
       "      <td>https://doi.org/10.1063/1.4954268</td>\n",
       "    </tr>\n",
       "    <tr>\n",
       "      <th>3</th>\n",
       "      <td>PCDTBT</td>\n",
       "      <td>PC71BM</td>\n",
       "      <td>LED</td>\n",
       "      <td>300</td>\n",
       "      <td>0.737</td>\n",
       "      <td>0.0311</td>\n",
       "      <td>63.4</td>\n",
       "      <td>18.72</td>\n",
       "      <td>CC1=CC(N(C(CCCCCCCC)CCCCCCCC)C2=C3C=CC(C4=CC=C...</td>\n",
       "      <td>COC(=O)CCCC1(C23C14C5=C6C7=C8C9=C1C%10=C%11C9=...</td>\n",
       "      <td>5.40</td>\n",
       "      <td>3.60</td>\n",
       "      <td>1.80</td>\n",
       "      <td>6.1</td>\n",
       "      <td>4.2</td>\n",
       "      <td>1.9</td>\n",
       "      <td>1.20</td>\n",
       "      <td>https://doi.org/10.1039/C8TC02838A</td>\n",
       "    </tr>\n",
       "    <tr>\n",
       "      <th>4</th>\n",
       "      <td>PTB7-Th(PCE10)</td>\n",
       "      <td>PC71BM</td>\n",
       "      <td>LED</td>\n",
       "      <td>890</td>\n",
       "      <td>0.620</td>\n",
       "      <td>0.0920</td>\n",
       "      <td>74.0</td>\n",
       "      <td>11.63</td>\n",
       "      <td>O=C(OCC(CC)CCCC)C1=C(F)C2=C(C)SC(C3=CC4=C(C(C5...</td>\n",
       "      <td>COC(=O)CCCC1(C23C14C5=C6C7=C8C9=C1C%10=C%11C9=...</td>\n",
       "      <td>5.24</td>\n",
       "      <td>3.66</td>\n",
       "      <td>1.58</td>\n",
       "      <td>6.1</td>\n",
       "      <td>4.2</td>\n",
       "      <td>1.9</td>\n",
       "      <td>1.04</td>\n",
       "      <td>http://dx.doi.org/10.7567/JJAP.54.071602</td>\n",
       "    </tr>\n",
       "  </tbody>\n",
       "</table>\n",
       "</div>"
      ],
      "text/plain": [
       "            Donor Acceptor Light source Condition  Voc (V)  Jsc (mA cm^2)  \\\n",
       "0            P3HT   PC61BM           FL       300    0.410         0.0206   \n",
       "1          PCDTBT   PC71BM           FL       300    0.720         0.0277   \n",
       "2            PTB7   PC71BM           FL       300    0.610         0.0286   \n",
       "3          PCDTBT   PC71BM          LED       300    0.737         0.0311   \n",
       "4  PTB7-Th(PCE10)   PC71BM          LED       890    0.620         0.0920   \n",
       "\n",
       "   FF(%)  PCE(%)                                      SMILES(donor)  \\\n",
       "0   56.6    5.80                              CC1=CC(CCCCCC)=C(C)S1   \n",
       "1   69.3   16.60  CC1=CC(N(C(CCCCCCCC)CCCCCCCC)C2=C3C=CC(C4=CC=C...   \n",
       "2   69.5   14.60  CC1=C(C(F)=C(C(OCC(CC)CCCC)=O)S2)C2=C(C3=CC4=C...   \n",
       "3   63.4   18.72  CC1=CC(N(C(CCCCCCCC)CCCCCCCC)C2=C3C=CC(C4=CC=C...   \n",
       "4   74.0   11.63  O=C(OCC(CC)CCCC)C1=C(F)C2=C(C)SC(C3=CC4=C(C(C5...   \n",
       "\n",
       "                                    SMILES(acceptor)  Donor_HOMO(ev)  \\\n",
       "0  COC(=O)CCCC1(C23C14C5=C6C7=C8C5=C9C1=C5C%10=C%...            5.20   \n",
       "1  COC(=O)CCCC1(C23C14C5=C6C7=C8C9=C1C%10=C%11C9=...            5.40   \n",
       "2  COC(=O)CCCC1(C23C14C5=C6C7=C8C9=C1C%10=C%11C9=...            5.15   \n",
       "3  COC(=O)CCCC1(C23C14C5=C6C7=C8C9=C1C%10=C%11C9=...            5.40   \n",
       "4  COC(=O)CCCC1(C23C14C5=C6C7=C8C9=C1C%10=C%11C9=...            5.24   \n",
       "\n",
       "   Donor_LUMO(ev)  Donor_bandgap(ev)  Acceptor_HOMO(ev)  Acceptor_LUMO(ev)  \\\n",
       "0            3.20               2.00                6.1                3.7   \n",
       "1            3.60               1.80                6.1                4.2   \n",
       "2            3.31               1.80                6.1                4.2   \n",
       "3            3.60               1.80                6.1                4.2   \n",
       "4            3.66               1.58                6.1                4.2   \n",
       "\n",
       "   Acceptor_bandgap(ev)  EffectiveEg(eV)  \\\n",
       "0                   2.4             1.50   \n",
       "1                   1.9             1.20   \n",
       "2                   1.9             0.95   \n",
       "3                   1.9             1.20   \n",
       "4                   1.9             1.04   \n",
       "\n",
       "                                  Reference  \n",
       "0         https://doi.org/10.1063/1.4954268  \n",
       "1         https://doi.org/10.1063/1.4954268  \n",
       "2         https://doi.org/10.1063/1.4954268  \n",
       "3        https://doi.org/10.1039/C8TC02838A  \n",
       "4  http://dx.doi.org/10.7567/JJAP.54.071602  "
      ]
     },
     "execution_count": 3,
     "metadata": {},
     "output_type": "execute_result"
    }
   ],
   "source": [
    "data.head()"
   ]
  },
  {
   "cell_type": "code",
   "execution_count": 4,
   "metadata": {
    "tags": []
   },
   "outputs": [
    {
     "data": {
      "text/html": [
       "<div>\n",
       "<style scoped>\n",
       "    .dataframe tbody tr th:only-of-type {\n",
       "        vertical-align: middle;\n",
       "    }\n",
       "\n",
       "    .dataframe tbody tr th {\n",
       "        vertical-align: top;\n",
       "    }\n",
       "\n",
       "    .dataframe thead th {\n",
       "        text-align: right;\n",
       "    }\n",
       "</style>\n",
       "<table border=\"1\" class=\"dataframe\">\n",
       "  <thead>\n",
       "    <tr style=\"text-align: right;\">\n",
       "      <th></th>\n",
       "      <th>Voc (V)</th>\n",
       "      <th>Jsc (mA cm^2)</th>\n",
       "      <th>FF(%)</th>\n",
       "      <th>PCE(%)</th>\n",
       "      <th>Donor_HOMO(ev)</th>\n",
       "      <th>Donor_LUMO(ev)</th>\n",
       "      <th>Donor_bandgap(ev)</th>\n",
       "      <th>Acceptor_HOMO(ev)</th>\n",
       "      <th>Acceptor_LUMO(ev)</th>\n",
       "      <th>Acceptor_bandgap(ev)</th>\n",
       "      <th>EffectiveEg(eV)</th>\n",
       "    </tr>\n",
       "  </thead>\n",
       "  <tbody>\n",
       "    <tr>\n",
       "      <th>count</th>\n",
       "      <td>127.000000</td>\n",
       "      <td>127.000000</td>\n",
       "      <td>127.000000</td>\n",
       "      <td>128.000000</td>\n",
       "      <td>128.000000</td>\n",
       "      <td>128.000000</td>\n",
       "      <td>128.000000</td>\n",
       "      <td>128.000000</td>\n",
       "      <td>128.000000</td>\n",
       "      <td>128.000000</td>\n",
       "      <td>128.000000</td>\n",
       "    </tr>\n",
       "    <tr>\n",
       "      <th>mean</th>\n",
       "      <td>0.741071</td>\n",
       "      <td>0.083938</td>\n",
       "      <td>65.353307</td>\n",
       "      <td>17.274141</td>\n",
       "      <td>5.383594</td>\n",
       "      <td>3.432187</td>\n",
       "      <td>1.949922</td>\n",
       "      <td>5.806172</td>\n",
       "      <td>3.907891</td>\n",
       "      <td>1.902500</td>\n",
       "      <td>1.475703</td>\n",
       "    </tr>\n",
       "    <tr>\n",
       "      <th>std</th>\n",
       "      <td>0.182888</td>\n",
       "      <td>0.055100</td>\n",
       "      <td>10.636156</td>\n",
       "      <td>6.813819</td>\n",
       "      <td>0.130678</td>\n",
       "      <td>0.291204</td>\n",
       "      <td>0.282674</td>\n",
       "      <td>0.228518</td>\n",
       "      <td>0.248367</td>\n",
       "      <td>0.255195</td>\n",
       "      <td>0.271704</td>\n",
       "    </tr>\n",
       "    <tr>\n",
       "      <th>min</th>\n",
       "      <td>0.290000</td>\n",
       "      <td>0.019000</td>\n",
       "      <td>30.900000</td>\n",
       "      <td>3.500000</td>\n",
       "      <td>5.130000</td>\n",
       "      <td>2.910000</td>\n",
       "      <td>1.580000</td>\n",
       "      <td>5.330000</td>\n",
       "      <td>3.420000</td>\n",
       "      <td>1.500000</td>\n",
       "      <td>0.950000</td>\n",
       "    </tr>\n",
       "    <tr>\n",
       "      <th>25%</th>\n",
       "      <td>0.620000</td>\n",
       "      <td>0.042150</td>\n",
       "      <td>59.000000</td>\n",
       "      <td>12.475000</td>\n",
       "      <td>5.272500</td>\n",
       "      <td>3.200000</td>\n",
       "      <td>1.790000</td>\n",
       "      <td>5.640000</td>\n",
       "      <td>3.700000</td>\n",
       "      <td>1.770000</td>\n",
       "      <td>1.307500</td>\n",
       "    </tr>\n",
       "    <tr>\n",
       "      <th>50%</th>\n",
       "      <td>0.720000</td>\n",
       "      <td>0.068500</td>\n",
       "      <td>67.200000</td>\n",
       "      <td>16.800000</td>\n",
       "      <td>5.430000</td>\n",
       "      <td>3.600000</td>\n",
       "      <td>1.820000</td>\n",
       "      <td>5.790000</td>\n",
       "      <td>3.900000</td>\n",
       "      <td>1.900000</td>\n",
       "      <td>1.470000</td>\n",
       "    </tr>\n",
       "    <tr>\n",
       "      <th>75%</th>\n",
       "      <td>0.840000</td>\n",
       "      <td>0.110450</td>\n",
       "      <td>73.050000</td>\n",
       "      <td>22.000000</td>\n",
       "      <td>5.450000</td>\n",
       "      <td>3.652500</td>\n",
       "      <td>2.052500</td>\n",
       "      <td>6.100000</td>\n",
       "      <td>4.140000</td>\n",
       "      <td>2.012500</td>\n",
       "      <td>1.712500</td>\n",
       "    </tr>\n",
       "    <tr>\n",
       "      <th>max</th>\n",
       "      <td>1.140000</td>\n",
       "      <td>0.245000</td>\n",
       "      <td>81.100000</td>\n",
       "      <td>36.300000</td>\n",
       "      <td>5.660000</td>\n",
       "      <td>3.800000</td>\n",
       "      <td>2.560000</td>\n",
       "      <td>6.100000</td>\n",
       "      <td>4.300000</td>\n",
       "      <td>2.400000</td>\n",
       "      <td>2.010000</td>\n",
       "    </tr>\n",
       "  </tbody>\n",
       "</table>\n",
       "</div>"
      ],
      "text/plain": [
       "          Voc (V)  Jsc (mA cm^2)       FF(%)      PCE(%)  Donor_HOMO(ev)  \\\n",
       "count  127.000000     127.000000  127.000000  128.000000      128.000000   \n",
       "mean     0.741071       0.083938   65.353307   17.274141        5.383594   \n",
       "std      0.182888       0.055100   10.636156    6.813819        0.130678   \n",
       "min      0.290000       0.019000   30.900000    3.500000        5.130000   \n",
       "25%      0.620000       0.042150   59.000000   12.475000        5.272500   \n",
       "50%      0.720000       0.068500   67.200000   16.800000        5.430000   \n",
       "75%      0.840000       0.110450   73.050000   22.000000        5.450000   \n",
       "max      1.140000       0.245000   81.100000   36.300000        5.660000   \n",
       "\n",
       "       Donor_LUMO(ev)  Donor_bandgap(ev)  Acceptor_HOMO(ev)  \\\n",
       "count      128.000000         128.000000         128.000000   \n",
       "mean         3.432187           1.949922           5.806172   \n",
       "std          0.291204           0.282674           0.228518   \n",
       "min          2.910000           1.580000           5.330000   \n",
       "25%          3.200000           1.790000           5.640000   \n",
       "50%          3.600000           1.820000           5.790000   \n",
       "75%          3.652500           2.052500           6.100000   \n",
       "max          3.800000           2.560000           6.100000   \n",
       "\n",
       "       Acceptor_LUMO(ev)  Acceptor_bandgap(ev)  EffectiveEg(eV)  \n",
       "count         128.000000            128.000000       128.000000  \n",
       "mean            3.907891              1.902500         1.475703  \n",
       "std             0.248367              0.255195         0.271704  \n",
       "min             3.420000              1.500000         0.950000  \n",
       "25%             3.700000              1.770000         1.307500  \n",
       "50%             3.900000              1.900000         1.470000  \n",
       "75%             4.140000              2.012500         1.712500  \n",
       "max             4.300000              2.400000         2.010000  "
      ]
     },
     "execution_count": 4,
     "metadata": {},
     "output_type": "execute_result"
    }
   ],
   "source": [
    "data.describe()"
   ]
  },
  {
   "cell_type": "markdown",
   "metadata": {},
   "source": [
    "## ML Models - Data Preprocessing"
   ]
  },
  {
   "cell_type": "code",
   "execution_count": 5,
   "metadata": {
    "tags": []
   },
   "outputs": [],
   "source": [
    "from rdkit import Chem, DataStructs\n",
    "from rdkit.Chem import AllChem\n",
    "\n",
    "from sklearn.svm import SVR\n",
    "from sklearn.ensemble import RandomForestRegressor\n",
    "from sklearn.neighbors import KNeighborsRegressor\n",
    "from sklearn.neural_network import MLPRegressor"
   ]
  },
  {
   "cell_type": "code",
   "execution_count": 6,
   "metadata": {
    "tags": []
   },
   "outputs": [
    {
     "name": "stdout",
     "output_type": "stream",
     "text": [
      "128 128\n"
     ]
    }
   ],
   "source": [
    "#prepressing data for training: donors\n",
    "x_data_D = np.array(data.loc[:,'SMILES(donor)'])\n",
    "smileD=[]\n",
    "for i in x_data_D:\n",
    "    mole=Chem.MolFromSmiles(i)\n",
    "    smileD.append(mole)\n",
    "\n",
    "#prepressing data for training: acceptors\n",
    "x_data_A = np.array(data.loc[:,'SMILES(acceptor)'])\n",
    "smileA=[]\n",
    "for i in x_data_A:\n",
    "    mole=Chem.MolFromSmiles(i)\n",
    "    smileA.append(mole)\n",
    "\n",
    "print(len(smileD), len(smileA))"
   ]
  },
  {
   "cell_type": "code",
   "execution_count": 7,
   "metadata": {
    "tags": []
   },
   "outputs": [
    {
     "name": "stdout",
     "output_type": "stream",
     "text": [
      "128\n"
     ]
    },
    {
     "data": {
      "image/png": "[encoded data removed]",
      "text/plain": [
       "<rdkit.Chem.rdchem.Mol at 0x2d97a5bf8e0>"
      ]
     },
     "execution_count": 7,
     "metadata": {},
     "output_type": "execute_result"
    }
   ],
   "source": [
    "#combine SMILES of donor and acceptor range\n",
    "merge_smile=[]\n",
    "for i in range(data.shape[0]):\n",
    "    combo = Chem.CombineMols(smileD[i],smileA[i])\n",
    "    mmm=Chem.MolToSmiles(combo)\n",
    "    mole_merge=Chem.MolFromSmiles(mmm)\n",
    "    merge_smile.append(mole_merge)\n",
    "\n",
    "print(len(merge_smile))\n",
    "merge_smile[5]"
   ]
  },
  {
   "cell_type": "code",
   "execution_count": 8,
   "metadata": {
    "tags": []
   },
   "outputs": [
    {
     "name": "stdout",
     "output_type": "stream",
     "text": [
      "(128,) [ 5.8  16.6  14.6  18.72 11.63]\n"
     ]
    }
   ],
   "source": [
    "# y_data processing\n",
    "y_data=np.around(np.array(data.loc[:,'PCE(%)']),decimals=2)\n",
    "print(y_data.shape, y_data[:5])"
   ]
  },
  {
   "cell_type": "markdown",
   "metadata": {},
   "source": [
    "## ML Model - Modelling"
   ]
  },
  {
   "cell_type": "code",
   "execution_count": 9,
   "metadata": {
    "tags": []
   },
   "outputs": [],
   "source": [
    "from sklearn.model_selection import train_test_split, KFold, cross_val_score, cross_val_predict\n",
    "from sklearn.metrics import r2_score, mean_squared_error, mean_absolute_percentage_error"
   ]
  },
  {
   "cell_type": "code",
   "execution_count": 10,
   "metadata": {
    "tags": []
   },
   "outputs": [
    {
     "name": "stdout",
     "output_type": "stream",
     "text": [
      "(128, 2048)\n"
     ]
    }
   ],
   "source": [
    "#Generate fingerprints\n",
    "fpt_Morgan = [AllChem.GetMorganFingerprintAsBitVect(p, 5) for p in merge_smile]# Generate fingerprints: Morgan fingerprint with radius 5    \n",
    "\n",
    "morgan= []\n",
    "for i in fpt_Morgan:\n",
    "    arr = np.zeros((1,))  # create a num array to accept the data\n",
    "    DataStructs.ConvertToNumpyArray(i, arr)\n",
    "    morgan.append(arr)    # this will change numpy array to list \n",
    "    \n",
    "x_data_Morgan = np.array(morgan) # change list to np array\n",
    "\n",
    "print(x_data_Morgan.shape)"
   ]
  },
  {
   "cell_type": "code",
   "execution_count": 11,
   "metadata": {},
   "outputs": [],
   "source": [
    "#create KFold validation \n",
    "k = 10\n",
    "kf=KFold(n_splits=k, shuffle=True, random_state=2)"
   ]
  },
  {
   "cell_type": "code",
   "execution_count": 12,
   "metadata": {},
   "outputs": [
    {
     "name": "stdout",
     "output_type": "stream",
     "text": [
      "Cross-Predicted Correlated Coef:  [0.8974610381812109, 0.9038833226822542, 0.8959867939801495, 0.7881073679099411, 0.8472411735858455, 0.6845094606992963, 0.9451902082156213, 0.8969897308436063, 0.8372932402584057, 0.9134707632865315] 0.8610133099642863\n",
      "Cross-Predicted mean_squared_error:  [5.78184753246865, 12.87118678710206, 12.00381567992137, 25.434319550295097, 4.278284419659593, 45.94130501940232, 3.873262285421572, 9.346836018007052, 29.80812081044812, 12.689035393867917] 16.202801349659374\n",
      "Cross-Predicted root_mean_squared_error:  [2.4045472614337715, 3.5876436259893567, 3.464652317321519, 5.043244942524118, 2.0684014164710853, 6.7780015505606315, 1.9680605390641752, 3.057259560130126, 5.459681383601805, 3.562167232720541] 3.7393659829817123\n",
      "Cross-Predicted R^2_score: [0.6193688794220169, 0.7641400645018579, 0.7778040641979471, 0.5508685554721249, 0.7160759786302963, 0.3753726748880045, 0.8572363941298176, 0.7984855065530879, 0.4571703208166601, 0.7766887123256252] 0.6693211150937438\n",
      "Cross-Predicted MAPE: [0.09185148964933926, 0.26047810326283977, 0.15566640960601796, 0.376117576310014, 0.09252533568549162, 0.24203159436945576, 0.09787575074704477, 0.1369031918753249, 0.25959551937365344, 0.18284370878574144] 0.1895888679664923\n"
     ]
    }
   ],
   "source": [
    "# SVR parameters\n",
    "SVR_cross_Corrcoef = []\n",
    "SVR_cross_RSE = []\n",
    "SVR_cross_RMSE = []\n",
    "SVR_R2 = []\n",
    "SVR_MAPE = []\n",
    "\n",
    "for train_index, test_index in kf.split(x_data_Morgan):\n",
    "    x_train, x_test = x_data_Morgan[train_index], x_data_Morgan[test_index]\n",
    "    y_train, y_test = y_data[train_index], y_data[test_index]\n",
    "    \n",
    "    model_svm_cross = SVR(C=10, gamma=0.015)\n",
    "    model_svm_cross.fit(x_train, y_train)\n",
    "    test_svm_cross = model_svm_cross.predict(x_test)\n",
    "    \n",
    "    SVR_cross_Corrcoef.append(np.corrcoef(y_test, test_svm_cross)[0,1])\n",
    "    SVR_cross_RSE.append(mean_squared_error(y_test, test_svm_cross))\n",
    "    SVR_cross_RMSE.append(np.sqrt(mean_squared_error(y_test, test_svm_cross)))\n",
    "    SVR_R2.append(r2_score(y_test, test_svm_cross))\n",
    "    SVR_MAPE.append(mean_absolute_percentage_error(y_test, test_svm_cross))\n",
    "    \n",
    "print('Cross-Predicted Correlated Coef: ', SVR_cross_Corrcoef, np.mean(SVR_cross_Corrcoef))\n",
    "print('Cross-Predicted mean_squared_error: ', SVR_cross_RSE, np.mean(SVR_cross_RSE))\n",
    "print('Cross-Predicted root_mean_squared_error: ', SVR_cross_RMSE, np.mean(SVR_cross_RMSE))\n",
    "print('Cross-Predicted R^2_score:', SVR_R2, np.mean(SVR_R2))\n",
    "print('Cross-Predicted MAPE:', SVR_MAPE, np.mean(SVR_MAPE))"
   ]
  },
  {
   "cell_type": "code",
   "execution_count": 13,
   "metadata": {},
   "outputs": [
    {
     "name": "stdout",
     "output_type": "stream",
     "text": [
      "Cross-Predicted Correlated Coef:  [0.8606276052253061, 0.8722842448879023, 0.9079728750498064, 0.8926617777198973, 0.8041898399937533, 0.7547171340763885, 0.8573172531614001, 0.8962932256560173, 0.5729071168172958, 0.917680340496304] 0.8336651413084072\n",
      "Cross-Predicted mean_squared_error:  [6.721248103348383, 13.818791870634929, 12.967410875596565, 13.512464627021613, 6.67406565751716, 43.34357387371812, 8.539654983504292, 9.981814452081487, 46.13464941184049, 14.433161829015207] 17.612683568427823\n",
      "Cross-Predicted root_mean_squared_error:  [2.5925370013460527, 3.717363564494994, 3.601029141175695, 3.675930443713756, 2.58342130855909, 6.583583664974428, 2.922268807537098, 3.159400964119858, 6.792249215969663, 3.7991001341127095] 3.942688424600334\n",
      "Cross-Predicted R^2_score: [0.5575261743078469, 0.7467755372382383, 0.7599674910659933, 0.7613904022450791, 0.5570823782401824, 0.4106919557879173, 0.6852389927423539, 0.7847955950958089, 0.1598511996540466, 0.7459942499011701] 0.6169313976278638\n",
      "Cross-Predicted MAPE: [0.13717735922553975, 0.2600967241220276, 0.12169345049150383, 0.2735405817753199, 0.07948382701075436, 0.19958187916523742, 0.14869649117483125, 0.13095619327678504, 0.29585947175609967, 0.1973034204105436] 0.18443893984086426\n"
     ]
    }
   ],
   "source": [
    "# RF parameters\n",
    "RF_cross_Corrcoef = []\n",
    "RF_cross_RSE = []\n",
    "RF_cross_RMSE = []\n",
    "RF_R2 = []\n",
    "RF_MAPE = []\n",
    "\n",
    "for train_index, test_index in kf.split(x_data_Morgan):\n",
    "    x_train, x_test = x_data_Morgan[train_index], x_data_Morgan[test_index]\n",
    "    y_train, y_test = y_data[train_index], y_data[test_index]\n",
    "    \n",
    "    model_rf_cross = RandomForestRegressor(n_estimators=200)\n",
    "    model_rf_cross.fit(x_train, y_train)\n",
    "    test_rf_cross = model_rf_cross.predict(x_test)\n",
    "    \n",
    "    RF_cross_Corrcoef.append(np.corrcoef(y_test, test_rf_cross)[0,1])\n",
    "    RF_cross_RSE.append(mean_squared_error(y_test, test_rf_cross))\n",
    "    RF_cross_RMSE.append(np.sqrt(mean_squared_error(y_test, test_rf_cross)))\n",
    "    RF_R2.append(r2_score(y_test, test_rf_cross))\n",
    "    RF_MAPE.append(mean_absolute_percentage_error(y_test, test_rf_cross))\n",
    "    \n",
    "print('Cross-Predicted Correlated Coef: ', RF_cross_Corrcoef, np.mean(RF_cross_Corrcoef))\n",
    "print('Cross-Predicted mean_squared_error: ', RF_cross_RSE, np.mean(RF_cross_RSE))\n",
    "print('Cross-Predicted root_mean_squared_error: ', RF_cross_RMSE, np.mean(RF_cross_RMSE))\n",
    "print ('Cross-Predicted R^2_score:', RF_R2, np.mean(RF_R2))\n",
    "print('Cross-Predicted MAPE:', RF_MAPE, np.mean(RF_MAPE))"
   ]
  },
  {
   "cell_type": "code",
   "execution_count": 14,
   "metadata": {},
   "outputs": [
    {
     "name": "stdout",
     "output_type": "stream",
     "text": [
      "Cross-Predicted Correlated Coef:  [0.78819854906058, 0.7905130643833383, 0.9339086994157022, 0.6157770821591891, 0.7965347103212023, 0.6833167161616388, 0.7658962270261945, 0.8731857777332134, 0.33832380774742077, 0.8437046316056963] 0.7429359265614176\n",
      "Cross-Predicted mean_squared_error:  [7.453944444444445, 21.485418803418803, 10.499835897435903, 36.40958632478633, 7.386123076923078, 39.68234957264958, 14.973555555555556, 13.388670940170941, 54.35164629629629, 20.86198425925926] 22.649311517094016\n",
      "Cross-Predicted root_mean_squared_error:  [2.7301912834899396, 4.6352366502066324, 3.240345027529615, 6.034035658229601, 2.7177422756624803, 6.299392793964318, 3.86956787710922, 3.6590532846859367, 7.372356902395345, 4.567492119233405] 4.512541387250649\n",
      "Cross-Predicted R^2_score: [0.5092912411331725, 0.606287316240099, 0.8056433949663879, 0.35706201739043875, 0.5098274072908813, 0.46047070588754235, 0.4480934606844096, 0.7113449687960596, 0.010213125821622815, 0.632854947301267] 0.505108858551188\n",
      "Cross-Predicted MAPE: [0.16774470885184886, 0.34277590353775855, 0.12505363545770806, 0.42127522131344863, 0.0954852910126393, 0.2701692928526187, 0.19767004921559128, 0.13411801914507152, 0.38243690493263544, 0.22490325254278862] 0.2361632278862109\n"
     ]
    }
   ],
   "source": [
    "# KNN parameters\n",
    "KNN_cross_Corrcoef = []\n",
    "KNN_cross_RSE = []\n",
    "KNN_cross_RMSE = []\n",
    "KNN_R2 = []\n",
    "KNN_MAPE = []\n",
    "\n",
    "for train_index, test_index in kf.split(x_data_Morgan):\n",
    "    x_train, x_test = x_data_Morgan[train_index], x_data_Morgan[test_index]\n",
    "    y_train, y_test = y_data[train_index], y_data[test_index]\n",
    "    \n",
    "    model_knn_cross = KNeighborsRegressor(n_neighbors=3)\n",
    "    model_knn_cross.fit(x_train, y_train)\n",
    "    test_knn_cross = model_knn_cross.predict(x_test)\n",
    "    \n",
    "    KNN_cross_Corrcoef.append(np.corrcoef(y_test, test_knn_cross)[0,1])\n",
    "    KNN_cross_RSE.append(mean_squared_error(y_test, test_knn_cross))\n",
    "    KNN_cross_RMSE.append(np.sqrt(mean_squared_error(y_test, test_knn_cross)))\n",
    "    KNN_R2.append(r2_score(y_test, test_knn_cross))\n",
    "    KNN_MAPE.append(mean_absolute_percentage_error(y_test, test_knn_cross))\n",
    "    \n",
    "print('Cross-Predicted Correlated Coef: ', KNN_cross_Corrcoef, np.mean(KNN_cross_Corrcoef))\n",
    "print('Cross-Predicted mean_squared_error: ', KNN_cross_RSE, np.mean(KNN_cross_RSE))\n",
    "print('Cross-Predicted root_mean_squared_error: ', KNN_cross_RMSE, np.mean(KNN_cross_RMSE))\n",
    "print ('Cross-Predicted R^2_score:', KNN_R2, np.mean(KNN_R2))\n",
    "print('Cross-Predicted MAPE:', KNN_MAPE, np.mean(KNN_MAPE))"
   ]
  },
  {
   "cell_type": "code",
   "execution_count": 15,
   "metadata": {},
   "outputs": [
    {
     "name": "stdout",
     "output_type": "stream",
     "text": [
      "Cross-Predicted Correlated Coef:  [0.8739404174298737, 0.8718461700867126, 0.935283520111514, 0.8382251051355847, 0.8300765507135229, 0.7190734503626128, 0.9225384319962789, 0.7943952687888168, 0.7468670138038123, 0.9372682648402016] 0.846951419326893\n",
      "Cross-Predicted mean_squared_error:  [9.245367480535432, 14.175247743961718, 8.109467197324058, 17.40462936406508, 6.578817194610723, 51.12218986638854, 7.894170820337442, 20.20369099248701, 34.33634899077033, 9.760700118890405] 17.883062976937076\n",
      "Cross-Predicted root_mean_squared_error:  [3.0406195882641143, 3.765003020445232, 2.8477126254810297, 4.171885588563651, 2.564920504540194, 7.149978312301971, 2.8096567086278426, 4.494851609618165, 5.859722603568392, 3.124211919651163] 3.982856248106175\n",
      "Cross-Predicted R^2_score: [0.39135811442455615, 0.7402436097103868, 0.849890176522831, 0.692660685799077, 0.5634034462115891, 0.30493231098629203, 0.7090307320760527, 0.5644155360952767, 0.3747076702515937, 0.8282237818324484] 0.6018866063910104\n",
      "Cross-Predicted MAPE: [0.12765424931012245, 0.23963027929226952, 0.10751841313933261, 0.30583089116782586, 0.08108306140200307, 0.15577567108265145, 0.12829230717013135, 0.16639349618465246, 0.21373060594072155, 0.1543931527670331] 0.2361632278862109\n"
     ]
    }
   ],
   "source": [
    "# ANN parameters\n",
    "ANN_cross_Corrcoef = []\n",
    "ANN_cross_RSE = []\n",
    "ANN_cross_RMSE = []\n",
    "ANN_R2 = []\n",
    "ANN_MAPE = []\n",
    "\n",
    "for train_index, test_index in kf.split(x_data_Morgan):\n",
    "    x_train, x_test = x_data_Morgan[train_index], x_data_Morgan[test_index]\n",
    "    y_train, y_test = y_data[train_index], y_data[test_index]\n",
    "    \n",
    "    model_ann_cross = MLPRegressor(hidden_layer_sizes=(100,50,10), activation=\"relu\",\n",
    "                 solver='adam', alpha=0.0001,\n",
    "                 batch_size='auto', learning_rate=\"adaptive\",\n",
    "                 learning_rate_init=0.001,\n",
    "                 power_t=0.5, max_iter=1000,random_state=2, tol=1e-4)\n",
    "    model_ann_cross.fit(x_train, y_train)\n",
    "    test_ann_cross = model_ann_cross.predict(x_test)\n",
    "    \n",
    "    ANN_cross_Corrcoef.append(np.corrcoef(y_test, test_ann_cross)[0,1])\n",
    "    ANN_cross_RSE.append(mean_squared_error(y_test, test_ann_cross))\n",
    "    ANN_cross_RMSE.append(np.sqrt(mean_squared_error(y_test, test_ann_cross)))\n",
    "    ANN_R2.append(r2_score(y_test, test_ann_cross))\n",
    "    ANN_MAPE.append(mean_absolute_percentage_error(y_test, test_ann_cross))\n",
    "    \n",
    "print('Cross-Predicted Correlated Coef: ', ANN_cross_Corrcoef, np.mean(ANN_cross_Corrcoef))\n",
    "print('Cross-Predicted mean_squared_error: ', ANN_cross_RSE, np.mean(ANN_cross_RSE))\n",
    "print('Cross-Predicted root_mean_squared_error: ', ANN_cross_RMSE, np.mean(ANN_cross_RMSE))\n",
    "print ('Cross-Predicted R^2_score:', ANN_R2, np.mean(ANN_R2))\n",
    "print('Cross-Predicted MAPE:', ANN_MAPE, np.mean(KNN_MAPE))"
   ]
  },
  {
   "cell_type": "markdown",
   "metadata": {},
   "source": [
    "# new compounds"
   ]
  },
  {
   "cell_type": "code",
   "execution_count": 16,
   "metadata": {
    "tags": []
   },
   "outputs": [
    {
     "data": {
      "text/html": [
       "<div>\n",
       "<style scoped>\n",
       "    .dataframe tbody tr th:only-of-type {\n",
       "        vertical-align: middle;\n",
       "    }\n",
       "\n",
       "    .dataframe tbody tr th {\n",
       "        vertical-align: top;\n",
       "    }\n",
       "\n",
       "    .dataframe thead th {\n",
       "        text-align: right;\n",
       "    }\n",
       "</style>\n",
       "<table border=\"1\" class=\"dataframe\">\n",
       "  <thead>\n",
       "    <tr style=\"text-align: right;\">\n",
       "      <th></th>\n",
       "      <th>Donor</th>\n",
       "      <th>Acceptor</th>\n",
       "      <th>Light source</th>\n",
       "      <th>Condition</th>\n",
       "      <th>Voc (V)</th>\n",
       "      <th>Jsc (mA cm^2)</th>\n",
       "      <th>FF(%)</th>\n",
       "      <th>PCE(%)</th>\n",
       "      <th>SMILES(donor)</th>\n",
       "      <th>SMILES(acceptor)</th>\n",
       "      <th>Donor_HOMO(ev)</th>\n",
       "      <th>Donor_LUMO(ev)</th>\n",
       "      <th>Donor_bandgap(ev)</th>\n",
       "      <th>Acceptor_HOMO(ev)</th>\n",
       "      <th>Acceptor_LUMO(ev)</th>\n",
       "      <th>Acceptor_bandgap(ev)</th>\n",
       "      <th>EffectiveEg(eV)</th>\n",
       "      <th>Reference</th>\n",
       "    </tr>\n",
       "  </thead>\n",
       "  <tbody>\n",
       "    <tr>\n",
       "      <th>0</th>\n",
       "      <td>PM7</td>\n",
       "      <td>DTSiC-4F</td>\n",
       "      <td>LED</td>\n",
       "      <td>1000</td>\n",
       "      <td>0.8400</td>\n",
       "      <td>0.09910</td>\n",
       "      <td>0.7278</td>\n",
       "      <td>21.17</td>\n",
       "      <td>Cc1sc(cc1)c1sc(c2C(=O)c3c(C(=O)c12)c(sc3CC(CCC...</td>\n",
       "      <td>Fc1cc2C(=O)\\C(=C/c3cc4c(s3)c3cc5c(cc3[Si]4(CCC...</td>\n",
       "      <td>5.58</td>\n",
       "      <td>3.60</td>\n",
       "      <td>1.98</td>\n",
       "      <td>5.86</td>\n",
       "      <td>3.99</td>\n",
       "      <td>1.87</td>\n",
       "      <td>1.59</td>\n",
       "      <td>https://pubs.acs.org/doi/10.1021/acsami.3c02966</td>\n",
       "    </tr>\n",
       "    <tr>\n",
       "      <th>1</th>\n",
       "      <td>PM7</td>\n",
       "      <td>DTSiC-2M</td>\n",
       "      <td>LED</td>\n",
       "      <td>1000</td>\n",
       "      <td>0.9900</td>\n",
       "      <td>0.08546</td>\n",
       "      <td>0.6583</td>\n",
       "      <td>19.53</td>\n",
       "      <td>Cc1sc(cc1)c1sc(c2C(=O)c3c(C(=O)c12)c(sc3CC(CCC...</td>\n",
       "      <td>N#C\\C(C#N)=C\\1/C(=C/c2cc3c(s2)C2C=C4C(=CC2[Si]...</td>\n",
       "      <td>5.58</td>\n",
       "      <td>3.60</td>\n",
       "      <td>1.98</td>\n",
       "      <td>5.75</td>\n",
       "      <td>3.76</td>\n",
       "      <td>1.99</td>\n",
       "      <td>1.82</td>\n",
       "      <td>https://pubs.acs.org/doi/10.1021/acsami.3c02966</td>\n",
       "    </tr>\n",
       "    <tr>\n",
       "      <th>2</th>\n",
       "      <td>PM7</td>\n",
       "      <td>DTSiCODe-4F</td>\n",
       "      <td>LED</td>\n",
       "      <td>1000</td>\n",
       "      <td>1.0400</td>\n",
       "      <td>0.08600</td>\n",
       "      <td>0.6415</td>\n",
       "      <td>20.14</td>\n",
       "      <td>Cc1sc(cc1)c1sc(c2C(=O)c3c(C(=O)c12)c(sc3CC(CCC...</td>\n",
       "      <td>CCCCCCCC[Si]1(CCCCCCCC)c2c(sc(\\C=C\\3/C(=O)c4cc...</td>\n",
       "      <td>5.58</td>\n",
       "      <td>3.60</td>\n",
       "      <td>1.98</td>\n",
       "      <td>5.80</td>\n",
       "      <td>3.80</td>\n",
       "      <td>2.00</td>\n",
       "      <td>1.78</td>\n",
       "      <td>https://pubs.acs.org/doi/10.1021/acsami.3c02966</td>\n",
       "    </tr>\n",
       "    <tr>\n",
       "      <th>3</th>\n",
       "      <td>PM6</td>\n",
       "      <td>L8-BO</td>\n",
       "      <td>LED</td>\n",
       "      <td>1000</td>\n",
       "      <td>0.6548</td>\n",
       "      <td>0.12637</td>\n",
       "      <td>0.7425</td>\n",
       "      <td>24.17</td>\n",
       "      <td>CC1=CC2=C(C3=CC(F)=C(CC(CCCC)CC)S3)C4=C(C=C(C5...</td>\n",
       "      <td>O=C1\\C(=C/c2sc3c(sc4c3n(CC(CCCC)CC)c3c5n(CC(CC...</td>\n",
       "      <td>5.45</td>\n",
       "      <td>3.65</td>\n",
       "      <td>1.89</td>\n",
       "      <td>5.68</td>\n",
       "      <td>3.90</td>\n",
       "      <td>1.78</td>\n",
       "      <td>1.55</td>\n",
       "      <td>https://doi.org/10.1088/2515-7655/ad307d</td>\n",
       "    </tr>\n",
       "    <tr>\n",
       "      <th>4</th>\n",
       "      <td>PM6</td>\n",
       "      <td>PYFO-T</td>\n",
       "      <td>LED</td>\n",
       "      <td>1000</td>\n",
       "      <td>0.8630</td>\n",
       "      <td>0.10640</td>\n",
       "      <td>0.6870</td>\n",
       "      <td>19.90</td>\n",
       "      <td>CC1=CC2=C(C3=CC(F)=C(CC(CCCC)CC)S3)C4=C(C=C(C5...</td>\n",
       "      <td>CCCCC(COc1c(\\C=C2\\C(\\c3ccc(c(F)c3C2=O)c2cccs2)...</td>\n",
       "      <td>5.45</td>\n",
       "      <td>3.65</td>\n",
       "      <td>1.89</td>\n",
       "      <td>5.69</td>\n",
       "      <td>3.69</td>\n",
       "      <td>1.52</td>\n",
       "      <td>1.76</td>\n",
       "      <td>https://doi.org/10.1002/adma.202405404</td>\n",
       "    </tr>\n",
       "    <tr>\n",
       "      <th>5</th>\n",
       "      <td>PM6</td>\n",
       "      <td>PYFO-V</td>\n",
       "      <td>LED</td>\n",
       "      <td>1000</td>\n",
       "      <td>0.8280</td>\n",
       "      <td>0.13190</td>\n",
       "      <td>0.7540</td>\n",
       "      <td>25.70</td>\n",
       "      <td>CC1=CC2=C(C3=CC(F)=C(CC(CCCC)CC)S3)C4=C(C=C(C5...</td>\n",
       "      <td>C=Cc1ccc/2c(c1F)C(=O)\\C(=C/c1sc3c(sc4c5c(c6c(c...</td>\n",
       "      <td>5.45</td>\n",
       "      <td>3.65</td>\n",
       "      <td>1.89</td>\n",
       "      <td>5.71</td>\n",
       "      <td>3.73</td>\n",
       "      <td>1.51</td>\n",
       "      <td>1.72</td>\n",
       "      <td>https://doi.org/10.1002/adma.202405404</td>\n",
       "    </tr>\n",
       "  </tbody>\n",
       "</table>\n",
       "</div>"
      ],
      "text/plain": [
       "  Donor     Acceptor Light source  Condition  Voc (V)  Jsc (mA cm^2)   FF(%)  \\\n",
       "0   PM7     DTSiC-4F          LED       1000   0.8400        0.09910  0.7278   \n",
       "1   PM7     DTSiC-2M          LED       1000   0.9900        0.08546  0.6583   \n",
       "2   PM7  DTSiCODe-4F          LED       1000   1.0400        0.08600  0.6415   \n",
       "3   PM6        L8-BO          LED       1000   0.6548        0.12637  0.7425   \n",
       "4   PM6       PYFO-T          LED       1000   0.8630        0.10640  0.6870   \n",
       "5   PM6       PYFO-V          LED       1000   0.8280        0.13190  0.7540   \n",
       "\n",
       "   PCE(%)                                      SMILES(donor)  \\\n",
       "0   21.17  Cc1sc(cc1)c1sc(c2C(=O)c3c(C(=O)c12)c(sc3CC(CCC...   \n",
       "1   19.53  Cc1sc(cc1)c1sc(c2C(=O)c3c(C(=O)c12)c(sc3CC(CCC...   \n",
       "2   20.14  Cc1sc(cc1)c1sc(c2C(=O)c3c(C(=O)c12)c(sc3CC(CCC...   \n",
       "3   24.17  CC1=CC2=C(C3=CC(F)=C(CC(CCCC)CC)S3)C4=C(C=C(C5...   \n",
       "4   19.90  CC1=CC2=C(C3=CC(F)=C(CC(CCCC)CC)S3)C4=C(C=C(C5...   \n",
       "5   25.70  CC1=CC2=C(C3=CC(F)=C(CC(CCCC)CC)S3)C4=C(C=C(C5...   \n",
       "\n",
       "                                    SMILES(acceptor)  Donor_HOMO(ev)  \\\n",
       "0  Fc1cc2C(=O)\\C(=C/c3cc4c(s3)c3cc5c(cc3[Si]4(CCC...            5.58   \n",
       "1  N#C\\C(C#N)=C\\1/C(=C/c2cc3c(s2)C2C=C4C(=CC2[Si]...            5.58   \n",
       "2  CCCCCCCC[Si]1(CCCCCCCC)c2c(sc(\\C=C\\3/C(=O)c4cc...            5.58   \n",
       "3  O=C1\\C(=C/c2sc3c(sc4c3n(CC(CCCC)CC)c3c5n(CC(CC...            5.45   \n",
       "4  CCCCC(COc1c(\\C=C2\\C(\\c3ccc(c(F)c3C2=O)c2cccs2)...            5.45   \n",
       "5  C=Cc1ccc/2c(c1F)C(=O)\\C(=C/c1sc3c(sc4c5c(c6c(c...            5.45   \n",
       "\n",
       "   Donor_LUMO(ev)  Donor_bandgap(ev)  Acceptor_HOMO(ev)  Acceptor_LUMO(ev)  \\\n",
       "0            3.60               1.98               5.86               3.99   \n",
       "1            3.60               1.98               5.75               3.76   \n",
       "2            3.60               1.98               5.80               3.80   \n",
       "3            3.65               1.89               5.68               3.90   \n",
       "4            3.65               1.89               5.69               3.69   \n",
       "5            3.65               1.89               5.71               3.73   \n",
       "\n",
       "   Acceptor_bandgap(ev)  EffectiveEg(eV)  \\\n",
       "0                  1.87             1.59   \n",
       "1                  1.99             1.82   \n",
       "2                  2.00             1.78   \n",
       "3                  1.78             1.55   \n",
       "4                  1.52             1.76   \n",
       "5                  1.51             1.72   \n",
       "\n",
       "                                         Reference  \n",
       "0  https://pubs.acs.org/doi/10.1021/acsami.3c02966  \n",
       "1  https://pubs.acs.org/doi/10.1021/acsami.3c02966  \n",
       "2  https://pubs.acs.org/doi/10.1021/acsami.3c02966  \n",
       "3         https://doi.org/10.1088/2515-7655/ad307d  \n",
       "4           https://doi.org/10.1002/adma.202405404  \n",
       "5           https://doi.org/10.1002/adma.202405404  "
      ]
     },
     "execution_count": 16,
     "metadata": {},
     "output_type": "execute_result"
    }
   ],
   "source": [
    "New_data=pd.read_excel('new-compound.xlsx',engine='openpyxl')\n",
    "New_data"
   ]
  },
  {
   "cell_type": "markdown",
   "metadata": {},
   "source": [
    "# preprocessing"
   ]
  },
  {
   "cell_type": "code",
   "execution_count": 17,
   "metadata": {
    "tags": []
   },
   "outputs": [
    {
     "name": "stdout",
     "output_type": "stream",
     "text": [
      "6 6\n"
     ]
    }
   ],
   "source": [
    "#change shape of x_data(donor) for training\n",
    "new_x_data_D =np.array(New_data.loc[:,'SMILES(donor)'])\n",
    "new_smileD=[]\n",
    "for i in new_x_data_D:\n",
    "    mole=Chem.MolFromSmiles(i)\n",
    "    new_smileD.append(mole)\n",
    "\n",
    "new_x_data_A = np.array(New_data.loc[:,'SMILES(acceptor)'])\n",
    "new_smileA=[]\n",
    "for i in new_x_data_A:\n",
    "    mole=Chem.MolFromSmiles(i)\n",
    "    new_smileA.append(mole)\n",
    "\n",
    "print(len(new_smileD), len(new_smileA))"
   ]
  },
  {
   "cell_type": "code",
   "execution_count": 18,
   "metadata": {
    "tags": []
   },
   "outputs": [
    {
     "name": "stdout",
     "output_type": "stream",
     "text": [
      "(6, 2048)\n"
     ]
    }
   ],
   "source": [
    "#combine SMILES of donor and acceptor range\n",
    "\n",
    "new_merge_smile=[]\n",
    "for i in range(New_data.shape[0]):\n",
    "    combo = Chem.CombineMols(new_smileD[i],new_smileA[i])\n",
    "    mmm=Chem.MolToSmiles(combo)\n",
    "    mole_merge=Chem.MolFromSmiles(mmm)\n",
    "    new_merge_smile.append(mole_merge)\n",
    "\n",
    "new_fpt_Morgan = [AllChem.GetMorganFingerprintAsBitVect(p, 5) for p in new_merge_smile]    \n",
    "new_morgan= []\n",
    "for i in new_fpt_Morgan:\n",
    "    arr1 = np.zeros((1,))  # create a num array to accept the data\n",
    "    DataStructs.ConvertToNumpyArray(i, arr1)\n",
    "    new_morgan.append(arr1)    # this will change numpy array to list    \n",
    "new_x_data_Morgan = np.array(new_morgan) # change list to np array\n",
    "\n",
    "print(new_x_data_Morgan.shape)"
   ]
  },
  {
   "cell_type": "code",
   "execution_count": 19,
   "metadata": {},
   "outputs": [
    {
     "name": "stdout",
     "output_type": "stream",
     "text": [
      "(6,) [21.17 19.53 20.14 24.17 19.9  25.7 ]\n"
     ]
    }
   ],
   "source": [
    "# y_data processing\n",
    "new_y_data=np.around(np.array(New_data.loc[:,'PCE(%)']),decimals=2)\n",
    "print(new_y_data.shape, new_y_data)"
   ]
  },
  {
   "cell_type": "markdown",
   "metadata": {},
   "source": [
    "# Prediction of the new compounds"
   ]
  },
  {
   "cell_type": "code",
   "execution_count": 20,
   "metadata": {
    "tags": []
   },
   "outputs": [],
   "source": [
    "prediction_svm =model_svm_cross.predict(new_x_data_Morgan)\n",
    "prediction_RF =model_rf_cross.predict(new_x_data_Morgan)\n",
    "prediction_KNN =model_knn_cross.predict(new_x_data_Morgan)\n",
    "prediction_ANN =model_ann_cross.predict(new_x_data_Morgan)"
   ]
  },
  {
   "cell_type": "code",
   "execution_count": 21,
   "metadata": {
    "tags": []
   },
   "outputs": [
    {
     "name": "stdout",
     "output_type": "stream",
     "text": [
      "[19.30603365 19.34453968 19.37977003 22.55230032 20.00974768 20.11736114]\n",
      "[22.91668048 22.8104875  24.66229792 22.59105827 20.68472405 20.71680405]\n",
      "[15.95       18.19       22.25666667 30.3        22.25666667 22.25666667]\n",
      "[20.31118062 23.22892297 25.31376839 26.67575565 22.73239014 21.52659131]\n"
     ]
    }
   ],
   "source": [
    "print(prediction_svm)\n",
    "print(prediction_RF)\n",
    "print(prediction_KNN)\n",
    "print(prediction_ANN)"
   ]
  },
  {
   "cell_type": "code",
   "execution_count": null,
   "metadata": {},
   "outputs": [],
   "source": []
  },
  {
   "cell_type": "code",
   "execution_count": null,
   "metadata": {},
   "outputs": [],
   "source": []
  }
 ],
 "metadata": {
  "kernelspec": {
   "display_name": "Python 3 (ipykernel)",
   "language": "python",
   "name": "python3"
  },
  "language_info": {
   "codemirror_mode": {
    "name": "ipython",
    "version": 3
   },
   "file_extension": ".py",
   "mimetype": "text/x-python",
   "name": "python",
   "nbconvert_exporter": "python",
   "pygments_lexer": "ipython3",
   "version": "3.10.12"
  }
 },
 "nbformat": 4,
 "nbformat_minor": 4
}
